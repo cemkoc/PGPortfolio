{
 "cells": [
  {
   "cell_type": "code",
   "execution_count": 4,
   "metadata": {
    "collapsed": false
   },
   "outputs": [],
   "source": [
    "import time\n",
    "import hmac\n",
    "import hashlib\n",
    "import base64\n",
    "import requests\n",
    "import numpy as np"
   ]
  },
  {
   "cell_type": "code",
   "execution_count": 36,
   "metadata": {
    "collapsed": true
   },
   "outputs": [],
   "source": [
    "class KCClient():\n",
    "    def __init__(self, agent):\n",
    "        self.API_SECRET = '26089ed9-e0a9-4c7e-b355-b9cd41e2bd6d'\n",
    "        self.url = 'https://api.kucoin.com'\n",
    "        self.agent = agent\n",
    "        self.session = requests.session()\n",
    "    \n",
    "    def get_ticker_price(self, symbol):\n",
    "        request = Request('{}/open/tick?symbol={}'.format(self.url, symbol))\n",
    "        return urlopen(request).read()\n",
    "    \n",
    "    def order_asset(self, data):\n",
    "        \"\"\"\n",
    "        Place an order on an asset. Expect data with the following parameters:\n",
    "        symbol: pairing indicating ticker asset (ex: ETH-BTC)\n",
    "        type: BUY or SELL\n",
    "        amount: amount of assets in transaction\n",
    "        price: how much to buy/sell asset for\n",
    "        \n",
    "        return: response from api\n",
    "        \"\"\"\n",
    "        endpoint = '/v1/order'\n",
    "        params = self.generate_params(data)\n",
    "        headers = self.generate_header(endpoint, data)\n",
    "\n",
    "        self.session.headers.update(headers)\n",
    "        uri = '{}{}?{}'.format(self.url, endpoint, params)\n",
    "        \n",
    "        response = getattr(self.session, 'post')(uri)\n",
    "        return response.json()\n",
    "    \n",
    "#     def cancel_order(self, data):\n",
    "    \n",
    "    def generate_header(self, endpoint, data):\n",
    "        nonce = int(time.time() * 1000)\n",
    "        return {\n",
    "            'Accept': 'application/json',\n",
    "            'User-Agent': 'python-kucoin',\n",
    "            'HTTP_ACCEPT_LANGUAGE': 'en-US',\n",
    "            'Accept-Language': 'en-US',\n",
    "            'KC-API-KEY': '5a5403f96d581b54c6e60c09',\n",
    "            'KC-API-NONCE': str(nonce),\n",
    "            'KC-API-SIGNATURE': self.generate_signature(endpoint, data, nonce),\n",
    "        }\n",
    "    \n",
    "    def generate_signature(self, endpoint, data, nonce):\n",
    "        \"\"\"Generate the call signature\n",
    "        :param data:\n",
    "        :param nonce:\n",
    "        :return: signature string\n",
    "        \"\"\"\n",
    "        query_string = self.generate_params(data)\n",
    "        sig_str = (\"{}/{}/{}\".format(endpoint, nonce, query_string)).encode('utf-8')\n",
    "        m = hmac.new(self.API_SECRET.encode('utf-8'), base64.b64encode(sig_str), hashlib.sha256)\n",
    "        return m.hexdigest()\n",
    "    \n",
    "    def generate_params(self, data):\n",
    "        strs = []\n",
    "        for key in sorted(data):\n",
    "            strs.append('{}={}'.format(key, data[key]))\n",
    "        return '&'.join(strs)"
   ]
  },
  {
   "cell_type": "code",
   "execution_count": 3,
   "metadata": {
    "collapsed": false
   },
   "outputs": [
    {
     "ename": "NameError",
     "evalue": "name 'KCTrader' is not defined",
     "output_type": "error",
     "traceback": [
      "\u001b[0;31m---------------------------------------------------------------------------\u001b[0m",
      "\u001b[0;31mNameError\u001b[0m                                 Traceback (most recent call last)",
      "\u001b[0;32m<ipython-input-3-475fe2326441>\u001b[0m in \u001b[0;36m<module>\u001b[0;34m()\u001b[0m\n\u001b[0;32m----> 1\u001b[0;31m \u001b[0mtrader\u001b[0m \u001b[0;34m=\u001b[0m \u001b[0mKCTrader\u001b[0m\u001b[0;34m(\u001b[0m\u001b[0;34m''\u001b[0m\u001b[0;34m)\u001b[0m\u001b[0;34m\u001b[0m\u001b[0m\n\u001b[0m\u001b[1;32m      2\u001b[0m trader.order_asset({\n\u001b[1;32m      3\u001b[0m     \u001b[0;34m'symbol'\u001b[0m\u001b[0;34m:\u001b[0m \u001b[0;34m'ETH-BTC'\u001b[0m\u001b[0;34m,\u001b[0m\u001b[0;34m\u001b[0m\u001b[0m\n\u001b[1;32m      4\u001b[0m     \u001b[0;34m'type'\u001b[0m\u001b[0;34m:\u001b[0m \u001b[0;34m'BUY'\u001b[0m\u001b[0;34m,\u001b[0m\u001b[0;34m\u001b[0m\u001b[0m\n\u001b[1;32m      5\u001b[0m     \u001b[0;34m'amount'\u001b[0m\u001b[0;34m:\u001b[0m \u001b[0;34m'1'\u001b[0m\u001b[0;34m,\u001b[0m\u001b[0;34m\u001b[0m\u001b[0m\n",
      "\u001b[0;31mNameError\u001b[0m: name 'KCTrader' is not defined"
     ]
    }
   ],
   "source": [
    "trader = KCTrader('')\n",
    "trader.order_asset({\n",
    "    'symbol': 'ETH-BTC', \n",
    "    'type': 'BUY', \n",
    "    'amount': '1', \n",
    "    'price': '0.000001'})"
   ]
  },
  {
   "cell_type": "code",
   "execution_count": 6,
   "metadata": {
    "collapsed": true
   },
   "outputs": [],
   "source": [
    "def generate_random_portfolio(num_assets):\n",
    "    a = np.random.rand(num_assets)\n",
    "    a /= a.sum()\n",
    "    return a"
   ]
  },
  {
   "cell_type": "code",
   "execution_count": 7,
   "metadata": {
    "collapsed": false
   },
   "outputs": [
    {
     "data": {
      "text/plain": [
       "array([ 0.17324032,  0.18434495,  0.17218054,  0.06700218,  0.12021989,\n",
       "        0.00072943,  0.03328452,  0.14985426,  0.08642177,  0.01272215])"
      ]
     },
     "execution_count": 7,
     "metadata": {},
     "output_type": "execute_result"
    }
   ],
   "source": [
    "generate_random_portfolio(10)"
   ]
  },
  {
   "cell_type": "code",
   "execution_count": 20,
   "metadata": {
    "collapsed": true
   },
   "outputs": [],
   "source": [
    "w0 = np.array([1,0,0,0,0,0,0,0,0,0])\n",
    "w1 = np.array([0.5, 0.25, 0.25, 0, 0,0,0,0,0,0])\n",
    "p0 = 1.\n",
    "v0 = generate_random_portfolio(10)\n",
    "v1 = generate_random_portfolio(10)"
   ]
  },
  {
   "cell_type": "code",
   "execution_count": 21,
   "metadata": {
    "collapsed": false
   },
   "outputs": [],
   "source": [
    "s0 = np.divide(w0*p0, v0)\n",
    "p1 = np.sum(s0.dot(v1))"
   ]
  },
  {
   "cell_type": "code",
   "execution_count": 22,
   "metadata": {
    "collapsed": false
   },
   "outputs": [],
   "source": [
    "s1 = np.divide(w1*p1, v1)"
   ]
  },
  {
   "cell_type": "code",
   "execution_count": 29,
   "metadata": {
    "collapsed": true
   },
   "outputs": [],
   "source": [
    "d_s1 = s1 - s0"
   ]
  },
  {
   "cell_type": "code",
   "execution_count": 30,
   "metadata": {
    "collapsed": false
   },
   "outputs": [
    {
     "data": {
      "text/plain": [
       "array([-97.55817561,  34.19412241,   3.03711512,   0.        ,\n",
       "         0.        ,   0.        ,   0.        ,   0.        ,\n",
       "         0.        ,   0.        ])"
      ]
     },
     "execution_count": 30,
     "metadata": {},
     "output_type": "execute_result"
    }
   ],
   "source": [
    "d_s1"
   ]
  },
  {
   "cell_type": "code",
   "execution_count": 31,
   "metadata": {
    "collapsed": false
   },
   "outputs": [
    {
     "data": {
      "text/plain": [
       "array([ 195.11635121,    0.        ,    0.        ,    0.        ,\n",
       "          0.        ,    0.        ,    0.        ,    0.        ,\n",
       "          0.        ,    0.        ])"
      ]
     },
     "execution_count": 31,
     "metadata": {},
     "output_type": "execute_result"
    }
   ],
   "source": [
    "s0"
   ]
  },
  {
   "cell_type": "code",
   "execution_count": 32,
   "metadata": {
    "collapsed": false
   },
   "outputs": [
    {
     "data": {
      "text/plain": [
       "array([ 97.55817561,  34.19412241,   3.03711512,   0.        ,\n",
       "         0.        ,   0.        ,   0.        ,   0.        ,\n",
       "         0.        ,   0.        ])"
      ]
     },
     "execution_count": 32,
     "metadata": {},
     "output_type": "execute_result"
    }
   ],
   "source": [
    "s1"
   ]
  },
  {
   "cell_type": "code",
   "execution_count": 47,
   "metadata": {
    "collapsed": false
   },
   "outputs": [
    {
     "ename": "IndentationError",
     "evalue": "expected an indented block (<ipython-input-47-db6e6b2acd04>, line 15)",
     "output_type": "error",
     "traceback": [
      "\u001b[0;36m  File \u001b[0;32m\"<ipython-input-47-db6e6b2acd04>\"\u001b[0;36m, line \u001b[0;32m15\u001b[0m\n\u001b[0;31m    \"\"\"\u001b[0m\n\u001b[0m       \n^\u001b[0m\n\u001b[0;31mIndentationError\u001b[0m\u001b[0;31m:\u001b[0m expected an indented block\n"
     ]
    }
   ],
   "source": [
    "class KCTrader():\n",
    "    def __init__(self, num_assets, p_init, commission_rate, min_trade_amount=1e-4):\n",
    "        self.w_prev = np.eye(num_assets)[0]\n",
    "        self.p_prev = p_init\n",
    "        self.commission_rate = commission_rate\n",
    "        self.client = KCTrader()\n",
    "        self.min_trade_amount = min_trade_amount\n",
    "        \n",
    "    @static\n",
    "    def calculate_mu(w1, w0, commission_rate):\n",
    "    \"\"\"\n",
    "    @:param w1: target portfolio vector, first element is btc\n",
    "    @:param w0: rebalanced last period portfolio vector, first element is btc\n",
    "    @:param commission_rate: rate of commission fee, proportional to the transaction cost\n",
    "    \"\"\"\n",
    "    mu0 = 1\n",
    "    mu1 = 1 - 2*commission_rate + commission_rate ** 2\n",
    "    while abs(mu1-mu0) > 1e-10:\n",
    "        mu0 = mu1\n",
    "        mu1 = (1 - commission_rate * w0[0] -\n",
    "            (2 * commission_rate - commission_rate ** 2) *\n",
    "            np.sum(np.maximum(w0[1:] - mu1*w1[1:], 0))) / \\\n",
    "            (1 - commission_rate * w1[0])\n",
    "    return mu1\n",
    " \n",
    "    def process_w(w):\n",
    "        \"\"\"\n",
    "        Since w vector values can be very small i.e 0.1e-10 and there is a minimum trading limit\n",
    "        we need to process these values to be 0 and make sure that sum(w) still keeps at 1.\n",
    "        Args:\n",
    "        - w: raw w vector values\n",
    "        Return:\n",
    "        tapered and normalized w vector.\n",
    "        \"\"\"\n",
    "        for i in xrange(len(w)):\n",
    "            if w[i] < self.min_trade_amount:\n",
    "                w[i] = 0.\n",
    "        w /= np.sum(w)\n",
    "        return w\n",
    "\n",
    "    def execute_action(self, w, v_prev, v):\n",
    "        w = process_w(w)\n",
    "        s_prev = np.divide(self.w_prev*self.p_prev, v_prev)\n",
    "        p_prime = np.sum(s_prev.dot(v))\n",
    "        mu = calculate_mu(w, self.w_prev, self.commission_rate)\n",
    "        p = mu*p_prime\n",
    "        # current values \n",
    "        s = np.divide(w*p, v)\n",
    "        # calculate next trading asset values\n",
    "        d_s = s - s_prev\n",
    "        \n",
    "        for i, asset in enumerate(self.assets):\n",
    "            if d_s[i] == 0: continue\n",
    "            self.client.order_asset(\n",
    "                {'symbol': asset, \n",
    "                 'type': 'BUY' if d_s[i] > 0 else 'SELL', \n",
    "                 'amount': d_s[i], \n",
    "                 'price': client.get_price(asset)})\n",
    "\n",
    "        \n",
    "        \n",
    "\n",
    "        "
   ]
  },
  {
   "cell_type": "code",
   "execution_count": 40,
   "metadata": {
    "collapsed": false
   },
   "outputs": [],
   "source": [
    "w = np.array([0.00000000e+00,1.51549227e-08,9.99698400e-01,1.46747169e-07,\n",
    "              1.60798996e-11,7.99844383e-06,2.55209079e-06,1.02792634e-04,\n",
    "              1.08958578e-12,1.30443550e-06,1.86839126e-04,2.19902391e-14\n",
    "             ])"
   ]
  },
  {
   "cell_type": "code",
   "execution_count": 52,
   "metadata": {
    "collapsed": false
   },
   "outputs": [
    {
     "data": {
      "text/plain": [
       "1.0"
      ]
     },
     "execution_count": 52,
     "metadata": {},
     "output_type": "execute_result"
    }
   ],
   "source": [
    "np.sum(process_w(w))"
   ]
  }
 ],
 "metadata": {
  "kernelspec": {
   "display_name": "Python [Root]",
   "language": "python",
   "name": "Python [Root]"
  },
  "language_info": {
   "codemirror_mode": {
    "name": "ipython",
    "version": 2
   },
   "file_extension": ".py",
   "mimetype": "text/x-python",
   "name": "python",
   "nbconvert_exporter": "python",
   "pygments_lexer": "ipython2",
   "version": "2.7.12"
  }
 },
 "nbformat": 4,
 "nbformat_minor": 2
}
