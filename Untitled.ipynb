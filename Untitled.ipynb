{
 "cells": [
  {
   "cell_type": "code",
   "execution_count": 20,
   "metadata": {
    "collapsed": true
   },
   "outputs": [],
   "source": [
    "import time\n",
    "import hmac\n",
    "import hashlib\n",
    "import base64\n",
    "import requests\n",
    "import numpy as np\n",
    "from urllib.request import Request, urlopen"
   ]
  },
  {
   "cell_type": "code",
   "execution_count": 15,
   "metadata": {
    "collapsed": true
   },
   "outputs": [],
   "source": [
    "class KCTrader():\n",
    "    def __init__(self, agent):\n",
    "        self.API_SECRET = '26089ed9-e0a9-4c7e-b355-b9cd41e2bd6d'\n",
    "        self.url = 'https://api.kucoin.com'\n",
    "        self.agent = agent\n",
    "        self.session = requests.session()\n",
    "    \n",
    "    def get_ticker_price(self, symbol):\n",
    "        request = Request('{}/open/tick?symbol={}'.format(self.url, symbol))\n",
    "        return urlopen(request).read()\n",
    "    \n",
    "    def order_asset(self, data):\n",
    "        \"\"\"\n",
    "        Place an order on an asset. Expect data with the following parameters:\n",
    "        symbol: pairing indicating ticker asset (ex: ETH-BTC)\n",
    "        type: BUY or SELL\n",
    "        amount: amount of assets in transaction\n",
    "        price: how much to buy/sell asset for\n",
    "        \n",
    "        return: response from api\n",
    "        \"\"\"\n",
    "        endpoint = '/v1/order'\n",
    "        params = self.generate_params(data)\n",
    "        headers = self.generate_header(endpoint, data)\n",
    "\n",
    "        self.session.headers.update(headers)\n",
    "        uri = '{}{}?{}'.format(self.url, endpoint, params)\n",
    "        \n",
    "        response = getattr(self.session, 'post')(uri)\n",
    "        return response.json()\n",
    "    \n",
    "#     def cancel_order(self, data):\n",
    "    \n",
    "    def generate_header(self, endpoint, data):\n",
    "        nonce = int(time.time() * 1000)\n",
    "        return {\n",
    "            'Accept': 'application/json',\n",
    "            'User-Agent': 'python-kucoin',\n",
    "            'HTTP_ACCEPT_LANGUAGE': 'en-US',\n",
    "            'Accept-Language': 'en-US',\n",
    "            'KC-API-KEY': '5a5403f96d581b54c6e60c09',\n",
    "            'KC-API-NONCE': str(nonce),\n",
    "            'KC-API-SIGNATURE': self.generate_signature(endpoint, data, nonce),\n",
    "        }\n",
    "    \n",
    "    def generate_signature(self, endpoint, data, nonce):\n",
    "        \"\"\"Generate the call signature\n",
    "        :param data:\n",
    "        :param nonce:\n",
    "        :return: signature string\n",
    "        \"\"\"\n",
    "        query_string = self.generate_params(data)\n",
    "        sig_str = (\"{}/{}/{}\".format(endpoint, nonce, query_string)).encode('utf-8')\n",
    "        m = hmac.new(self.API_SECRET.encode('utf-8'), base64.b64encode(sig_str), hashlib.sha256)\n",
    "        return m.hexdigest()\n",
    "    \n",
    "    def generate_params(self, data):\n",
    "        strs = []\n",
    "        for key in sorted(data):\n",
    "            strs.append('{}={}'.format(key, data[key]))\n",
    "        return '&'.join(strs)"
   ]
  },
  {
   "cell_type": "code",
   "execution_count": 19,
   "metadata": {},
   "outputs": [
    {
     "name": "stdout",
     "output_type": "stream",
     "text": [
      "<Response [200]>\n"
     ]
    },
    {
     "data": {
      "text/plain": [
       "{'code': 'OK',\n",
       " 'data': {'orderOid': '5a54176ab6f51c663c6680d7'},\n",
       " 'msg': 'OK',\n",
       " 'success': True,\n",
       " 'timestamp': 1515460458404}"
      ]
     },
     "execution_count": 19,
     "metadata": {},
     "output_type": "execute_result"
    }
   ],
   "source": [
    "trader = KCTrader('')\n",
    "trader.order_asset({\n",
    "    'symbol': 'ETH-BTC', \n",
    "    'type': 'BUY', \n",
    "    'amount': '1', \n",
    "    'price': '0.000001'})"
   ]
  },
  {
   "cell_type": "code",
   "execution_count": 31,
   "metadata": {
    "collapsed": true
   },
   "outputs": [],
   "source": [
    "def generate_random_portfolio(num_assets):\n",
    "    a = np.random.rand(num_assets)\n",
    "    a /= a.sum()\n",
    "    return a"
   ]
  },
  {
   "cell_type": "code",
   "execution_count": 35,
   "metadata": {},
   "outputs": [
    {
     "data": {
      "text/plain": [
       "array([0.15583083, 0.09929224, 0.02883688, 0.21058773, 0.02253532,\n",
       "       0.00110622, 0.06403987, 0.03295447, 0.17199222, 0.21282423])"
      ]
     },
     "execution_count": 35,
     "metadata": {},
     "output_type": "execute_result"
    }
   ],
   "source": [
    "generate_random_portfolio(10)"
   ]
  },
  {
   "cell_type": "code",
   "execution_count": 36,
   "metadata": {},
   "outputs": [
    {
     "ename": "SyntaxError",
     "evalue": "unexpected EOF while parsing (<ipython-input-36-e6bbb673ed4a>, line 2)",
     "output_type": "error",
     "traceback": [
      "\u001b[0;36m  File \u001b[0;32m\"<ipython-input-36-e6bbb673ed4a>\"\u001b[0;36m, line \u001b[0;32m2\u001b[0m\n\u001b[0;31m    \u001b[0m\n\u001b[0m    ^\u001b[0m\n\u001b[0;31mSyntaxError\u001b[0m\u001b[0;31m:\u001b[0m unexpected EOF while parsing\n"
     ]
    }
   ],
   "source": [
    "def weights_to_value(w, p):\n",
    "    "
   ]
  },
  {
   "cell_type": "code",
   "execution_count": null,
   "metadata": {
    "collapsed": true
   },
   "outputs": [],
   "source": []
  }
 ],
 "metadata": {
  "kernelspec": {
   "display_name": "Python 3",
   "language": "python",
   "name": "python3"
  },
  "language_info": {
   "codemirror_mode": {
    "name": "ipython",
    "version": 3
   },
   "file_extension": ".py",
   "mimetype": "text/x-python",
   "name": "python",
   "nbconvert_exporter": "python",
   "pygments_lexer": "ipython3",
   "version": "3.5.3"
  }
 },
 "nbformat": 4,
 "nbformat_minor": 2
}
